{
  "nbformat": 4,
  "nbformat_minor": 0,
  "metadata": {
    "colab": {
      "provenance": [],
      "authorship_tag": "ABX9TyNFFGPB+i8uRlczz2VuUSvc"
    },
    "kernelspec": {
      "name": "python3",
      "display_name": "Python 3"
    },
    "language_info": {
      "name": "python"
    }
  },
  "cells": [
    {
      "cell_type": "code",
      "execution_count": null,
      "metadata": {
        "id": "Nxu_HUaSeb2m"
      },
      "outputs": [],
      "source": [
        "import matplotlib.pyplot as plt\n",
        "import numpy as np\n",
        "import pandas as pd"
      ]
    },
    {
      "cell_type": "code",
      "source": [
        "v = pd.read_csv('/content/placement (1).csv')"
      ],
      "metadata": {
        "id": "wSZjSX3CiVH4"
      },
      "execution_count": null,
      "outputs": []
    },
    {
      "cell_type": "code",
      "source": [
        "v.head(1)"
      ],
      "metadata": {
        "id": "t3u5RPTRizTv"
      },
      "execution_count": null,
      "outputs": []
    },
    {
      "cell_type": "code",
      "source": [
        "plt.scatter(v['cgpa'] , v['package'])\n",
        "plt.xlabel('cgpa')\n",
        "plt.ylabel('package')\n"
      ],
      "metadata": {
        "id": "UPsykMxFi3IT"
      },
      "execution_count": null,
      "outputs": []
    },
    {
      "cell_type": "code",
      "source": [
        "x = v.iloc[:,0:1]\n",
        "y = v.iloc[:,-1]"
      ],
      "metadata": {
        "id": "X12zusymmr8i"
      },
      "execution_count": null,
      "outputs": []
    },
    {
      "cell_type": "code",
      "source": [
        "y.head(1)"
      ],
      "metadata": {
        "id": "HAihrIg9m_cK"
      },
      "execution_count": null,
      "outputs": []
    },
    {
      "cell_type": "code",
      "source": [
        "x.head(1)"
      ],
      "metadata": {
        "id": "0lsRcDcWnDDB"
      },
      "execution_count": null,
      "outputs": []
    },
    {
      "cell_type": "code",
      "source": [
        "from sklearn.model_selection import train_test_split\n",
        "x_train , x_test , y_train , y_test = train_test_split(x,y,test_size=0.2,random_state=2)"
      ],
      "metadata": {
        "id": "7-FdF7-snFBd"
      },
      "execution_count": null,
      "outputs": []
    },
    {
      "cell_type": "code",
      "source": [
        "from sklearn.linear_model import LinearRegression\n",
        "lr = LinearRegression()"
      ],
      "metadata": {
        "id": "5NfMcolxnx25"
      },
      "execution_count": null,
      "outputs": []
    },
    {
      "cell_type": "code",
      "source": [
        "lr.fit(x_train ,y_train)\n"
      ],
      "metadata": {
        "id": "KLiWSEBzn-As"
      },
      "execution_count": null,
      "outputs": []
    },
    {
      "cell_type": "code",
      "source": [
        "plt.scatter(v['cgpa'] , v['package'])\n",
        "plt.plot(x_train,lr.predict(x_train) , color = 'red')\n",
        "# by this line we are drawing the line by which my model\n",
        "# has been predicting the outputs through the line\n",
        "# by the use of linear regression...\n",
        "\n",
        "plt.xlabel('cgpa')\n",
        "plt.ylabel('package')"
      ],
      "metadata": {
        "id": "_PtTUbKboOvG"
      },
      "execution_count": null,
      "outputs": []
    },
    {
      "cell_type": "code",
      "source": [
        "from sklearn.metrics import mean_absolute_error , mean_squared_error,r2_score\n",
        "\n"
      ],
      "metadata": {
        "id": "ueB07QNNlz-D"
      },
      "execution_count": null,
      "outputs": []
    },
    {
      "cell_type": "code",
      "source": [
        "y_pred = lr.predict(x_test)\n",
        "# here we are passing x_test inouts to predict the y output\n"
      ],
      "metadata": {
        "id": "TG7LSFY6qGoW"
      },
      "execution_count": null,
      "outputs": []
    },
    {
      "cell_type": "code",
      "source": [
        "y_test.values"
      ],
      "metadata": {
        "id": "37h_EtysqKuo"
      },
      "execution_count": null,
      "outputs": []
    },
    {
      "cell_type": "code",
      "source": [
        "print(\"MAE\" , mean_absolute_error(y_test,y_pred))\n",
        "\n",
        "# we are finding out the mean absolute erorrs\n",
        "# MAE means Mean Absolute Error, which measures the\n",
        "# average absolute difference\n",
        "# between actual and predicted values."
      ],
      "metadata": {
        "id": "8-bRE6ozqPzQ"
      },
      "execution_count": null,
      "outputs": []
    },
    {
      "cell_type": "code",
      "source": [
        "print(\"MSE\",mean_squared_error(y_test,y_pred))"
      ],
      "metadata": {
        "id": "Qz3mimFkqsHm"
      },
      "execution_count": null,
      "outputs": []
    },
    {
      "cell_type": "code",
      "source": [
        "print(\"RMSE\",np.sqrt(mean_squared_error(y_test,y_pred)))"
      ],
      "metadata": {
        "id": "VPXWAmXzscQp"
      },
      "execution_count": null,
      "outputs": []
    },
    {
      "cell_type": "code",
      "source": [
        "print(\"MSE\" , r2_score(y_test,y_pred))\n",
        "r2 = r2_score(y_test,y_pred)\n",
        "\n",
        "# exactly it will till how much our model is efficient ....\n",
        "\n",
        "# also  it will state that cgpa column is able to expalain\n",
        "# 78 percent of variance  in that column ..."
      ],
      "metadata": {
        "id": "iz8ZZwYus7RP"
      },
      "execution_count": null,
      "outputs": []
    },
    {
      "cell_type": "markdown",
      "source": [
        "**Adjusted_r2_score**"
      ],
      "metadata": {
        "id": "xhKmho-_JZAP"
      }
    },
    {
      "cell_type": "code",
      "source": [
        "#  adjusted r2 score\n",
        "#  Adjusted R² tells how well your regression model fits the data..\n",
        "#  just like R², but it also adjusts for the number of features used.\n",
        "\n",
        "#  it  penalizes the score if you add useless features\n",
        "#  that don’t improve prediction.\n",
        "#  means the score will go down if one have added non relevent feature\n",
        "\n",
        "\n",
        "# So, it gives a more honest performance measure,\n",
        "# especially when you have many input variables.\n",
        "\n",
        "\n",
        "\n",
        "x_test.shape"
      ],
      "metadata": {
        "id": "GEtZs8jtEWoL"
      },
      "execution_count": null,
      "outputs": []
    },
    {
      "cell_type": "code",
      "source": [
        "# this formula is of adjusted r_sqaure will not let u tell\n",
        "# how efficien regression lins fits at the data but also will\n",
        "# tell that  about the affect of adding non relevent column\n",
        "# 1 - ((1-r2)*(40-1)/(40-1-1))\n",
        "\n",
        "# actually i have directly passed....\n",
        "# the input before stating the  formula of adjusted_r2_score\n",
        "\n",
        "# 1 − [(1−Rsqare).n-1/n-k-1]\n",
        "\n",
        "# actually here n is 40 means there is 40 rows and k is 1 means\n",
        "# there is only 1 feature\n",
        "\n"
      ],
      "metadata": {
        "id": "j-3E_qwyEoNM"
      },
      "execution_count": null,
      "outputs": []
    },
    {
      "cell_type": "code",
      "source": [
        "new_v1 = v.copy()\n",
        "new_v1['random_feature'] = np.random.random(200)\n",
        "new_v1 = new_v1[['cgpa','random_feature','package']]\n",
        "new_v1.head()\n",
        "\n",
        "# here we have made a copy of my data frame and made ...\n",
        "# some changes by adding extra column ...\n",
        "\n",
        "# we have added  one extra column or input which are nonrelevent\n",
        "# just because to check the effects in adjusted r square\n",
        "# because it penalise the non relevent column by decreasing the\n",
        "# the efficiency of my model ...\n"
      ],
      "metadata": {
        "id": "mwQvoAIuFFT8"
      },
      "execution_count": null,
      "outputs": []
    },
    {
      "cell_type": "code",
      "source": [
        "plt.scatter(new_v1['random_feature'] , new_v1['package'])\n",
        "plt.xlabel('random_feature')\n",
        "plt.ylabel('package')\n",
        "\n",
        "# here we have shown scattered plot of mine dataframe ...\n",
        "\n"
      ],
      "metadata": {
        "id": "bbGDuYIsJQ8q"
      },
      "execution_count": null,
      "outputs": []
    },
    {
      "cell_type": "code",
      "source": [
        "x = new_v1.iloc[:,0:2]\n",
        "y = new_v1.iloc[:,-1]\n",
        "\n",
        "# just doing all these shit to train test split again\n",
        "# for new dataframe"
      ],
      "metadata": {
        "id": "zzpma5b9JtJn"
      },
      "execution_count": null,
      "outputs": []
    },
    {
      "cell_type": "code",
      "source": [
        "x_train , x_test , y_train ,y_test = train_test_split(x,y,test_size=0.2,random_state=2)"
      ],
      "metadata": {
        "id": "I-NMadPxJ_oh"
      },
      "execution_count": null,
      "outputs": []
    },
    {
      "cell_type": "code",
      "source": [
        "lr = LinearRegression()\n"
      ],
      "metadata": {
        "id": "o5-3sRjhKKZ8"
      },
      "execution_count": null,
      "outputs": []
    },
    {
      "cell_type": "code",
      "source": [
        "lr.fit(x_train,y_train)"
      ],
      "metadata": {
        "id": "8dSBtQkQKO0v"
      },
      "execution_count": null,
      "outputs": []
    },
    {
      "cell_type": "code",
      "source": [
        "y_pred = lr.predict(x_test)"
      ],
      "metadata": {
        "id": "VHAEN_SqKU_x"
      },
      "execution_count": null,
      "outputs": []
    },
    {
      "cell_type": "code",
      "source": [
        "print(\"R2 score\" , r2_score(y_test , y_pred))\n"
      ],
      "metadata": {
        "id": "3iMDPDRbKd4K"
      },
      "execution_count": null,
      "outputs": []
    },
    {
      "cell_type": "code",
      "source": [
        " r2 = r2_score(y_test , y_pred)\n",
        "\n",
        "# we converted r2 score function in object"
      ],
      "metadata": {
        "id": "-RAkaMeoN5IE"
      },
      "execution_count": null,
      "outputs": []
    },
    {
      "cell_type": "code",
      "source": [
        "1 - ((1-r2)*(40-1)/(40-2-1))\n",
        "\n",
        "# again we are using adjusted r2 score formula\n",
        "# but here row is still 40 .... but since we have added extra column\n",
        "# by which my k value  is now 2..."
      ],
      "metadata": {
        "id": "BNfqmIT-K4fS"
      },
      "execution_count": null,
      "outputs": []
    },
    {
      "cell_type": "code",
      "source": [
        "# now after adding extra non relevent column we have seen the metrics\n",
        "# and how efficient my model and seen adjusted r_square ....how much it go\n",
        "# down ...now we added relevent coloumn ....now we wil see the the metrics and\n",
        "# how much our model is relevent ..... also we cann see the adjusted score too\n",
        "# how it have gone up.....\n",
        "\n",
        "new_v2 = v.copy()\n",
        "new_v2['iq'] = new_v2['package'] + (np.random.randint(-12,12,200)/10)\n",
        "\n",
        "# here np randit function is  generating 200 integers between\n",
        "# -12 to 12 .....tota will be 24 but it will keep repeating.....\n",
        "\n",
        "new_v2 = new_v2[['cgpa','iq','package']]\n",
        "new_v2.head()\n"
      ],
      "metadata": {
        "id": "ONytaWoTK9f6"
      },
      "execution_count": null,
      "outputs": []
    },
    {
      "cell_type": "code",
      "source": [
        "new_v2.sample(5)"
      ],
      "metadata": {
        "id": "c_X2fNhaM-3d"
      },
      "execution_count": null,
      "outputs": []
    },
    {
      "cell_type": "code",
      "source": [
        "plt.scatter(new_v2['iq'] , new_v2['package'])\n",
        "plt.xlabel('iq')\n",
        "plt.ylabel('package')"
      ],
      "metadata": {
        "id": "hLq27hQvNIZq"
      },
      "execution_count": null,
      "outputs": []
    },
    {
      "cell_type": "code",
      "source": [
        "np.random.randint(-100 ,100)"
      ],
      "metadata": {
        "id": "HUBWese9N2fX"
      },
      "execution_count": null,
      "outputs": []
    },
    {
      "cell_type": "code",
      "source": [
        "x = new_v2.iloc[: , 0:2]\n",
        "y = new_v2.iloc[: , -1]"
      ],
      "metadata": {
        "id": "hkdj5rqrOcKx"
      },
      "execution_count": null,
      "outputs": []
    },
    {
      "cell_type": "code",
      "source": [
        "x_train , x_test , y_train , y_test = train_test_split(x,y,test_size=0.2,random_state=2)"
      ],
      "metadata": {
        "id": "Lx5wsngmO1I0"
      },
      "execution_count": null,
      "outputs": []
    },
    {
      "cell_type": "code",
      "source": [
        "lr = LinearRegression()\n",
        "lr.fit(x_train , y_train)\n",
        "y_pred = lr.predict(x_test)"
      ],
      "metadata": {
        "id": "CIptub8AO8Sz"
      },
      "execution_count": null,
      "outputs": []
    },
    {
      "cell_type": "code",
      "source": [
        "print(\"R2 score\" , r2_score(y_test , y_pred))\n",
        "r2 = r2_score(y_test , y_pred)"
      ],
      "metadata": {
        "id": "fduvYe8RP6h5"
      },
      "execution_count": null,
      "outputs": []
    },
    {
      "cell_type": "code",
      "source": [
        "1 - ((1-r2)*(40-1)/(40-1-2))"
      ],
      "metadata": {
        "id": "wMttja8XQJrb"
      },
      "execution_count": null,
      "outputs": []
    },
    {
      "cell_type": "code",
      "source": [],
      "metadata": {
        "id": "1g6pfeaEQiSu"
      },
      "execution_count": null,
      "outputs": []
    }
  ]
}