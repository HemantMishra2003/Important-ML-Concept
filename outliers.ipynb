{
  "nbformat": 4,
  "nbformat_minor": 0,
  "metadata": {
    "colab": {
      "provenance": [],
      "authorship_tag": "ABX9TyNja4FzvzU2JB//GgYG7E+A"
    },
    "kernelspec": {
      "name": "python3",
      "display_name": "Python 3"
    },
    "language_info": {
      "name": "python"
    }
  },
  "cells": [
    {
      "cell_type": "code",
      "execution_count": null,
      "metadata": {
        "id": "b9HICCRABAc9"
      },
      "outputs": [],
      "source": [
        "#  outliers detection\n",
        "#  observation or that data point which\n",
        "#  behave very differently from other\n",
        "#  datapoints\n",
        "#  example ...  salary\n",
        "\n",
        "             #  30k\n",
        "             #  25k\n",
        "             #  50k\n",
        "             #  65k\n",
        "             #  22k\n",
        "             #  66k\n",
        "             #  10000000k(elon musk) ....these are the outliers ...\n",
        "# so if we do not remove outliers they completely gets baised because of\n",
        "# xtreme weightage in just one  datapoints.....mean and standard deviations\n",
        "# will be damages .... like [2, 3, 3, 4, 100] mean is 22 but its not good\n",
        "# representation.... 0f maine data points..."
      ]
    },
    {
      "cell_type": "code",
      "source": [
        " # important iq points :\n",
        "\n",
        "# so suppose we have marks vs hours of study graphs plotting ....\n",
        "# so 20 student  data are in linear  region but 2 data points are in\n",
        "# abnormal region like study hours is only 1 hr but marks are 99 ..\n",
        "# so yes techniqaully we do consider it as  outliers ...\n",
        "# but if think more deep and addd iq as one more column then\n",
        "# may this datapoints gets justified .....\n",
        "\n",
        "\n",
        "\n"
      ],
      "metadata": {
        "id": "_3hBeQUy3y6t"
      },
      "execution_count": null,
      "outputs": []
    }
  ]
}