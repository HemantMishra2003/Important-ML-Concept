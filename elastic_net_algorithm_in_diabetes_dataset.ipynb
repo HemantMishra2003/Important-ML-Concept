{
  "nbformat": 4,
  "nbformat_minor": 0,
  "metadata": {
    "colab": {
      "provenance": [],
      "authorship_tag": "ABX9TyOFrgQ9Q/NyOkhLYleL9HBI"
    },
    "kernelspec": {
      "name": "python3",
      "display_name": "Python 3"
    },
    "language_info": {
      "name": "python"
    }
  },
  "cells": [
    {
      "cell_type": "code",
      "source": [
        "from sklearn.linear_model import Lasso\n"
      ],
      "metadata": {
        "id": "gouCbrwe6bVI"
      },
      "execution_count": null,
      "outputs": []
    },
    {
      "cell_type": "code",
      "execution_count": null,
      "metadata": {
        "id": "a_UVH__h4-TF"
      },
      "outputs": [],
      "source": [
        "from sklearn.datasets import load_diabetes\n",
        "from sklearn.linear_model import LinearRegression , Ridge,Lasso , ElasticNet\n",
        "from sklearn.model_selection import train_test_split\n",
        "from sklearn.metrics import r2_score"
      ]
    },
    {
      "cell_type": "code",
      "source": [
        "x,y = load_diabetes(return_X_y=True)"
      ],
      "metadata": {
        "id": "AuPxATQF6nRC"
      },
      "execution_count": null,
      "outputs": []
    },
    {
      "cell_type": "code",
      "source": [
        "x_train , x_test , y_train , y_test = train_test_split(x,y,test_size=0.2,random_state=2)"
      ],
      "metadata": {
        "id": "ekhcU8eP7cmm"
      },
      "execution_count": null,
      "outputs": []
    },
    {
      "cell_type": "code",
      "source": [
        "# linear regression\n",
        "reg = LinearRegression()\n",
        "reg.fit( x_train , y_train)\n",
        "y_pred = reg.predict(x_test)\n",
        "r2_score(y_test,y_pred)"
      ],
      "metadata": {
        "colab": {
          "base_uri": "https://localhost:8080/"
        },
        "id": "iqzGKA3U6zzx",
        "outputId": "ded6c5a3-3421-4c9f-ddda-c0754bfdaebb"
      },
      "execution_count": null,
      "outputs": [
        {
          "output_type": "execute_result",
          "data": {
            "text/plain": [
              "0.4399338661568968"
            ]
          },
          "metadata": {},
          "execution_count": 11
        }
      ]
    },
    {
      "cell_type": "code",
      "source": [
        "#  ridge\n",
        "reg = Ridge(alpha=0.1)\n",
        "reg.fit( x_train , y_train)\n",
        "y_pred = reg.predict(x_test)\n",
        "r2_score(y_test,y_pred)"
      ],
      "metadata": {
        "colab": {
          "base_uri": "https://localhost:8080/"
        },
        "id": "LEmJT8xI7gYH",
        "outputId": "20a7d183-1e43-4fc0-9b28-e3ce53d625e6"
      },
      "execution_count": null,
      "outputs": [
        {
          "output_type": "execute_result",
          "data": {
            "text/plain": [
              "0.45199494197195456"
            ]
          },
          "metadata": {},
          "execution_count": 13
        }
      ]
    },
    {
      "cell_type": "code",
      "source": [
        "# lasso\n",
        "reg = Lasso(alpha=0.01)\n",
        "reg.fit( x_train , y_train)\n",
        "y_pred = reg.predict(x_test)\n",
        "r2_score(y_test,y_pred)"
      ],
      "metadata": {
        "colab": {
          "base_uri": "https://localhost:8080/"
        },
        "id": "A5m8cbSc7nFW",
        "outputId": "ccb4a3d7-fcfb-40bf-a398-da54e5668401"
      },
      "execution_count": null,
      "outputs": [
        {
          "output_type": "execute_result",
          "data": {
            "text/plain": [
              "0.44111855963110613"
            ]
          },
          "metadata": {},
          "execution_count": 12
        }
      ]
    },
    {
      "cell_type": "code",
      "source": [
        "# elastic Net Regression\n",
        "\n",
        "reg = ElasticNet(alpha = 0.005 , l1_ratio = 0.9)\n",
        "# this just upper code is hyperparameter tunning ....\n",
        "reg.fit(x_train , y_train)\n",
        "y_pred = reg.predict(x_test)\n",
        "r2_score(y_test , y_pred)\n",
        "\n",
        "# at bigger dataset elastic net effectively works because there\n",
        "# is huge numbers of columns...."
      ],
      "metadata": {
        "colab": {
          "base_uri": "https://localhost:8080/"
        },
        "id": "toMyTVZK7102",
        "outputId": "c0113ad8-bca4-4a24-fd53-1037ac8ddab7"
      },
      "execution_count": null,
      "outputs": [
        {
          "output_type": "execute_result",
          "data": {
            "text/plain": [
              "0.4531474541554823"
            ]
          },
          "metadata": {},
          "execution_count": 14
        }
      ]
    },
    {
      "cell_type": "code",
      "source": [],
      "metadata": {
        "id": "6oJWK1t6_b4Z"
      },
      "execution_count": null,
      "outputs": []
    }
  ]
}