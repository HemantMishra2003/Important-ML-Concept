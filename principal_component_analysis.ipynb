{
  "nbformat": 4,
  "nbformat_minor": 0,
  "metadata": {
    "colab": {
      "provenance": [],
      "authorship_tag": "ABX9TyP2oleimaYUYTcyzFvvTn61"
    },
    "kernelspec": {
      "name": "python3",
      "display_name": "Python 3"
    },
    "language_info": {
      "name": "python"
    }
  },
  "cells": [
    {
      "cell_type": "markdown",
      "source": [
        "**Feature extraction : PCA**"
      ],
      "metadata": {
        "id": "JFg6lbMdh6P_"
      }
    },
    {
      "cell_type": "code",
      "execution_count": 8,
      "metadata": {
        "id": "6m4H85SLK3qb"
      },
      "outputs": [],
      "source": [
        "# to remove  curse of dimensionality we use two feature\n",
        "\n",
        "# a.feature selection\n",
        "# b.feature extraction\n",
        "\n",
        "# principal component analysis is complex technique very old but\n",
        "# useful technique ...\n",
        "\n",
        "             # feature extraction\n",
        "\n",
        "# this is a feature extraction tecnique\n",
        "# by this we reduce the dimension / features by this model works better\n",
        "\n",
        "#  pca is unsupervised technique where inputs in higher number\n",
        "#  but there is no outputs\n",
        "\n",
        "\n",
        "# supervised technique :\n",
        "                        # when we provide inputs as well as outputs too\n",
        "# in model then its know as supervised .....\n",
        "\n",
        "\n",
        "\n",
        "# unsupervised technique :\n",
        "                       # here there is no y exist ...means model could\n",
        "           # works at output too.....\n"
      ]
    },
    {
      "cell_type": "code",
      "source": [
        "# how pca works ::\n",
        "                  #  photographer taking the photo of match\n",
        "     #   of soccer ....and keep the  revolving around the match to take\n",
        "     #   the photos from the best Angle\n",
        "# so if he take a photos from the particular angles....suppose from nearer\n",
        "# to the players ...then the may few player missed and may playground fully\n",
        "# view not be captured.\n",
        "                     # but if he takes the photos from the particular angles\n",
        "   # the may everything gets captures.....\n",
        "\n"
      ],
      "metadata": {
        "id": "blf5L_DBlDmB"
      },
      "execution_count": null,
      "outputs": []
    },
    {
      "cell_type": "code",
      "source": [
        "# pca is a techniqe which transform high dimensional data to lower\n",
        "# dimensional data on..while keeping the essence of the data ....\n",
        "\n",
        "# benifits\n",
        "\n",
        "# a.faster execution\n",
        "# b.visuaisation\n",
        "\n"
      ],
      "metadata": {
        "id": "k4zfVZvf5S8G"
      },
      "execution_count": 7,
      "outputs": []
    },
    {
      "cell_type": "code",
      "source": [
        "# since while in real world we may  working in that dataset whom we\n",
        "#  dont have much domain value ...so feature selection gets tougher\n",
        "# and to reoving any columns or keeping in columns get tougher\n",
        "# ....\n",
        "\n",
        "         # solution ::\n",
        "\n",
        "            # we apply mathmatical trick  by 2D plotting\n",
        " # lets take y axis as grocery shops and x axis take as number of  rooms\n",
        " # in notebook of ml we could see that there is no direct realtion\n",
        " # in x and y ...\n",
        "\n",
        "     #  for more understanding  visit soft notes  of pca\n",
        "   #   also uploaded to github too ... files of soft notes too available in\n",
        "   #  github"
      ],
      "metadata": {
        "id": "mlDCrdng6k5t"
      },
      "execution_count": 6,
      "outputs": []
    },
    {
      "cell_type": "code",
      "source": [
        "#  variance\n",
        "\n",
        "# If all the  values are close to the mean\n",
        "                                        # ::  variance is small.\n",
        "# If values are spread far from the mean\n",
        "                                        # ::  variance is large.\n",
        "\n",
        "      #                      example\n",
        "          #  Class Marks\n",
        "\n",
        "#   Class A: Marks = [45, 50, 55]\n",
        "\n",
        "#   Class B: Marks = [10, 50, 90]\n",
        "\n",
        "# Both classes have the same mean (average) = 50.\n",
        "\n",
        "# But...\n",
        "\n",
        "# In Class A, marks are close to 50 → small variance.\n",
        "\n",
        "# In Class B, marks are far from 50 (10 and 90) → large variance.\n",
        "\n",
        "\n",
        ""
      ],
      "metadata": {
        "id": "n1sn6hWEFaH3"
      },
      "execution_count": 5,
      "outputs": []
    },
    {
      "cell_type": "code",
      "source": [
        "# lets we have changes in data and now we have\n",
        "# no. of rooms , no of wahrooms an flat price..../"
      ],
      "metadata": {
        "id": "S1gzjVkHF753"
      },
      "execution_count": 4,
      "outputs": []
    },
    {
      "cell_type": "code",
      "source": [
        "# now when we make x y plotting then x at rooms y at washrooms\n",
        "# then we found as the rooms increasing then washroom to increasing ....\n",
        "# means variance is equal at rooms and washrooms too\n",
        "# so its gets hard  to decide whom to select and whom not to select\n",
        "\n",
        "    # solution\n",
        " #                     at this point when feature selection\n",
        " #             fails.........\n",
        " #                      we use :\n",
        "\n",
        "                   # feature extraction\n"
      ],
      "metadata": {
        "id": "oxUsElLaaoqr"
      },
      "execution_count": null,
      "outputs": []
    },
    {
      "cell_type": "code",
      "source": [
        "#  now we could integrate room washroom in one columns\n",
        "# name of column is size of flat column and other column is\n",
        "# price of flat column.\n",
        "                          # but  what when we dont have domain\n",
        "#     knowledge at the dataset the how we findsout what to keep\n",
        "#      and what to remove..............\n",
        "\n",
        "                   #       lets make geometric intuition\n",
        "\n",
        " # plss visit ml soft notes .....  i have made  soft notes in well\n",
        " # comprehensive way and explain  the pca like shifting the x and y axis for\n",
        " # extraction if selection features is fails .....\n",
        "\n",
        ""
      ],
      "metadata": {
        "id": "YJ6heFA_chYx"
      },
      "execution_count": null,
      "outputs": []
    },
    {
      "cell_type": "code",
      "source": [
        "   #        Why variance is very important :\n",
        "   #   because it tells how much data is spread outs.......\n",
        "\n",
        "  #  a. importance vuisit at my soft notes ....\n"
      ],
      "metadata": {
        "id": "VSgjpg5lzPLL"
      },
      "execution_count": null,
      "outputs": []
    },
    {
      "cell_type": "code",
      "source": [],
      "metadata": {
        "id": "DHxd6HvA0GZW"
      },
      "execution_count": null,
      "outputs": []
    }
  ]
}