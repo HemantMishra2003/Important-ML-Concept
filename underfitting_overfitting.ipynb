{
  "nbformat": 4,
  "nbformat_minor": 0,
  "metadata": {
    "colab": {
      "provenance": [],
      "authorship_tag": "ABX9TyMXgIbwls/1cVY2BLoifl7U"
    },
    "kernelspec": {
      "name": "python3",
      "display_name": "Python 3"
    },
    "language_info": {
      "name": "python"
    }
  },
  "cells": [
    {
      "cell_type": "code",
      "execution_count": null,
      "metadata": {
        "id": "hxjqG6r11DyB"
      },
      "outputs": [],
      "source": [
        "#   plss refer hard notes..... wa have written\n",
        "# deep understanding over the underfitting and overfitting case\n",
        "#      to manage or remove this also kbnown as\n",
        "#      bias_variance_trade_off"
      ]
    }
  ]
}